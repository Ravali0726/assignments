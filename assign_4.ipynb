{
  "nbformat": 4,
  "nbformat_minor": 0,
  "metadata": {
    "colab": {
      "provenance": [],
      "authorship_tag": "ABX9TyMQ7a06fFTSLdz+hLSFSHHF",
      "include_colab_link": true
    },
    "kernelspec": {
      "name": "python3",
      "display_name": "Python 3"
    },
    "language_info": {
      "name": "python"
    }
  },
  "cells": [
    {
      "cell_type": "markdown",
      "metadata": {
        "id": "view-in-github",
        "colab_type": "text"
      },
      "source": [
        "<a href=\"https://colab.research.google.com/github/Ravali0726/assignments/blob/main/assign_4.ipynb\" target=\"_parent\"><img src=\"https://colab.research.google.com/assets/colab-badge.svg\" alt=\"Open In Colab\"/></a>"
      ]
    },
    {
      "cell_type": "markdown",
      "source": [
        "# 1. What exactly is []?\n",
        "\n",
        "[] means that we are creating a empty list"
      ],
      "metadata": {
        "id": "Zbo-JDNiRFSS"
      }
    },
    {
      "cell_type": "markdown",
      "source": [
        "# 2. In a list of values stored in a variable called spam, \n",
        "#    how would you assign the value 'hello' as the third value? (Assume [2, 4, 6, 8, 10] are in spam.) \n"
      ],
      "metadata": {
        "id": "pxZ3FlsyRKto"
      }
    },
    {
      "cell_type": "code",
      "execution_count": 1,
      "metadata": {
        "colab": {
          "base_uri": "https://localhost:8080/"
        },
        "id": "l44CES4tQ2UN",
        "outputId": "8f1fb59c-7739-40ca-c9dc-6abeba8a08f1"
      },
      "outputs": [
        {
          "output_type": "execute_result",
          "data": {
            "text/plain": [
              "[2, 4, 'hello', 6, 8, 10]"
            ]
          },
          "metadata": {},
          "execution_count": 1
        }
      ],
      "source": [
        "spam=[2, 4, 6, 8, 10]\n",
        "spam.insert(2,'hello')\n",
        "spam"
      ]
    },
    {
      "cell_type": "markdown",
      "source": [
        "3. What is the value of spam[int(int('3' * 2) / 11)]?\n",
        "\n",
        "It will give the value of 4th index . Because ('3'*2) means 33 and 33/11 means 3 then spam[3] means 6"
      ],
      "metadata": {
        "id": "46YutJMKRp1m"
      }
    },
    {
      "cell_type": "markdown",
      "source": [
        " 4. What is the value of spam[-1]?\n",
        "\n",
        "The value of spam[-1] will be 10"
      ],
      "metadata": {
        "id": "RYkXzB_KRrXy"
      }
    },
    {
      "cell_type": "code",
      "source": [
        "spam[-1]"
      ],
      "metadata": {
        "colab": {
          "base_uri": "https://localhost:8080/"
        },
        "id": "jGoZk-yjRxpI",
        "outputId": "6dfcb847-96b4-40e3-94bc-a81a11a8b077"
      },
      "execution_count": 2,
      "outputs": [
        {
          "output_type": "execute_result",
          "data": {
            "text/plain": [
              "10"
            ]
          },
          "metadata": {},
          "execution_count": 2
        }
      ]
    },
    {
      "cell_type": "markdown",
      "source": [
        "5. What is the value of spam[:2]?\n",
        "\n"
      ],
      "metadata": {
        "id": "PaI8fefsR6L1"
      }
    },
    {
      "cell_type": "code",
      "source": [
        "spam[:2]"
      ],
      "metadata": {
        "colab": {
          "base_uri": "https://localhost:8080/"
        },
        "id": "BjwKUVY4R-Us",
        "outputId": "39e428fb-d3f5-49aa-d649-81e832412ea1"
      },
      "execution_count": 3,
      "outputs": [
        {
          "output_type": "execute_result",
          "data": {
            "text/plain": [
              "[2, 4]"
            ]
          },
          "metadata": {},
          "execution_count": 3
        }
      ]
    },
    {
      "cell_type": "markdown",
      "source": [
        "6. What is the value of bacon.index('cat')?"
      ],
      "metadata": {
        "id": "DpMicUXfSIaU"
      }
    },
    {
      "cell_type": "code",
      "source": [
        "bacon=[3.14, 'cat', 11, 'cat', True]\n",
        "bacon.index('cat')"
      ],
      "metadata": {
        "colab": {
          "base_uri": "https://localhost:8080/"
        },
        "id": "0YZxVsswSNp_",
        "outputId": "a4360a94-1e9c-4f09-aaed-df4752931e7b"
      },
      "execution_count": 4,
      "outputs": [
        {
          "output_type": "execute_result",
          "data": {
            "text/plain": [
              "1"
            ]
          },
          "metadata": {},
          "execution_count": 4
        }
      ]
    },
    {
      "cell_type": "markdown",
      "source": [
        " 7. How does bacon.append(99) change the look of the list value in bacon?\n",
        "\n",
        "becon.append(99) will add the value 99 at the end of the list because append always add at last.\n",
        " 8. How does bacon.remove('cat') change the look of the list in bacon?\n",
        "\n",
        "After removing 'cat' value the list will look like [3.14,11,'cat',True]\n",
        " 9. What are the list concatenation and list replication operators?\n",
        "\n",
        "List concatination actuallt adds two or multiple lists. we can do it by + operator and inbuilt function\n",
        "List replication can be done with * operator where it add the same list multiple times\n",
        "10. What is difference between the list methods append() and insert()?\n",
        "\n",
        "append() will add a value at the end of the List\n",
        "insert() will add a value by Any position given by the user\n",
        " 11. What are the two methods for removing items from a list?\n",
        "\n",
        "pop() And remove()\n",
        " 12. Describe how list values and string values are identical.\n",
        "\n",
        "List And String values are identical because they maintain a sequential manner\n",
        "\n",
        "13. What's the difference between tuples and lists?\n",
        "\n",
        "Actually List are mutable where tuples are immutable List"
      ],
      "metadata": {
        "id": "McZ9EulfSf4v"
      }
    },
    {
      "cell_type": "markdown",
      "source": [
        "14. How do you type a tuple value that only contains the integer 42?"
      ],
      "metadata": {
        "id": "gER-1sxcS0zJ"
      }
    },
    {
      "cell_type": "code",
      "source": [
        "tup=42,\n",
        "type(tup)"
      ],
      "metadata": {
        "colab": {
          "base_uri": "https://localhost:8080/"
        },
        "id": "jZeOWqAgS3eK",
        "outputId": "22001d3b-431e-4d59-e532-0459e85c4170"
      },
      "execution_count": 6,
      "outputs": [
        {
          "output_type": "execute_result",
          "data": {
            "text/plain": [
              "tuple"
            ]
          },
          "metadata": {},
          "execution_count": 6
        }
      ]
    },
    {
      "cell_type": "markdown",
      "source": [
        "15. How do you get a list value's tuple form? How do you get a tuple value's list form?"
      ],
      "metadata": {
        "id": "mRO0e2M1TCx0"
      }
    },
    {
      "cell_type": "code",
      "source": [
        "List=[1,2,3]\n",
        "Tuple=1,2,3,\n",
        "Tuple1=(List)\n",
        "List1=list(Tuple)\n",
        "Tuple[1],List1[1]"
      ],
      "metadata": {
        "colab": {
          "base_uri": "https://localhost:8080/"
        },
        "id": "gL_7lgQiTFwR",
        "outputId": "f4977df6-950c-4c82-a119-2f735f5567ef"
      },
      "execution_count": 7,
      "outputs": [
        {
          "output_type": "execute_result",
          "data": {
            "text/plain": [
              "(2, 2)"
            ]
          },
          "metadata": {},
          "execution_count": 7
        }
      ]
    },
    {
      "cell_type": "markdown",
      "source": [
        " 16. Variables that \"contain\" list values are not necessarily lists themselves. Instead, what do they contain?\n",
        "\n",
        "They canbe string,int,float etc that means saclar value\n",
        " 17. How do you distinguish between copy.copy() and copy.deepcopy()?\n",
        "\n",
        "In copy.copy() actually values changes In outer List between two List \n",
        "In copy.deepcopy() actually values changes In outer List As well As inner List between two List "
      ],
      "metadata": {
        "id": "439jymJQTNkS"
      }
    }
  ]
}