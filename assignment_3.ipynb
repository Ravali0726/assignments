{
  "nbformat": 4,
  "nbformat_minor": 0,
  "metadata": {
    "colab": {
      "provenance": [],
      "authorship_tag": "ABX9TyNLqQAuvGRRkv+vha7J/Z0Y",
      "include_colab_link": true
    },
    "kernelspec": {
      "name": "python3",
      "display_name": "Python 3"
    },
    "language_info": {
      "name": "python"
    }
  },
  "cells": [
    {
      "cell_type": "markdown",
      "metadata": {
        "id": "view-in-github",
        "colab_type": "text"
      },
      "source": [
        "<a href=\"https://colab.research.google.com/github/Ravali0726/assignments/blob/main/assignment_3.ipynb\" target=\"_parent\"><img src=\"https://colab.research.google.com/assets/colab-badge.svg\" alt=\"Open In Colab\"/></a>"
      ]
    },
    {
      "cell_type": "markdown",
      "source": [
        "\n",
        "# Question 1. Why are functions advantageous to have in your programs?\n",
        "\n",
        "By using function we can reduce,reuse code . It saves our time where we need to write code multiple times. We can easily\n",
        "read codes.\n",
        "# Question 2. When does the code in a function run: when it's specified or when it's called?\n",
        "\n",
        "The function only executes when we call the function.\n",
        "# Question 3. What statement creates a function?\n",
        "\n",
        "By writing def keyword we can create function\n",
        "# Question 4. What is the difference between a function and a function call?\n",
        "\n",
        "Function Is a method For doing multiple tasks by writing once. Unless we call that function name it Is useless.\n",
        "By def we define a function And the insider code of that function only executes when we call the function .\n",
        "# Question 5. How many global scopes are there in a Python program? How many local scopes?\n",
        "\n",
        "If Any function there canbe one local , one global scope\n",
        "# Qusetion 6. What happens to variables in a local scope when the function call returns?\n",
        "\n",
        "local variables are destroyed With function executions end.\n",
        "# Qusetion 7. What is the concept of a return value? Is it possible to have a return value in an expression?\n",
        "\n",
        "When we call the function then it will Return some values If there inside that function there Is a return keyword.\n",
        "Yes its posible have a return value In an expression\n",
        "# Qusetion 8. If a function does not have a return statement, what is the return value of a call to that function?\n",
        "\n",
        "Then it will return nothing \n",
        "# Question 9. How do you make a function variable refer to the global variable?\n",
        "\n",
        "By using global keyword we can do that\n",
        "# Qusetion 10. What is the data type of None?\n",
        "\n",
        "This will be NoneType\n",
        "# Question 11. What does the sentence import areallyourpetsnamederic do?\n",
        "\n",
        "By this we are importing that 'areallyourpetsnamederic' module\n",
        "# Question 12. If you had a bacon() feature in a spam module, what would you call it after importing spam?\n",
        "\n",
        "By writing spam.bacon()\n",
        "# Question 13. What can you do to save a programme from crashing if it encounters an error?\n",
        "\n",
        "we can use try except blocks For save a programme From crashing\n",
        "# Question 14. What is the purpose of the try clause? What is the purpose of the except clause?\n",
        "\n",
        "try clause will rectify If there is Any error\n",
        "except clause will handle the error"
      ],
      "metadata": {
        "id": "27GrdwAbQb4F"
      }
    }
  ]
}